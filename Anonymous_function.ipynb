{
 "cells": [
  {
   "cell_type": "markdown",
   "metadata": {},
   "source": [
    "# 無名関数"
   ]
  },
  {
   "cell_type": "markdown",
   "metadata": {},
   "source": [
    "無名関数を用いることで、関数をすっきりとシンプルに記述することが可能です"
   ]
  },
  {
   "cell_type": "markdown",
   "metadata": {},
   "source": [
    "以下はシンプルな関数の例です  "
   ]
  },
  {
   "cell_type": "code",
   "execution_count": 8,
   "metadata": {},
   "outputs": [
    {
     "name": "stdout",
     "output_type": "stream",
     "text": [
      "7\n"
     ]
    }
   ],
   "source": [
    "def add(a, b):\n",
    "    c = a + b\n",
    "    return c\n",
    "    \n",
    "print(add(3, 4))"
   ]
  },
  {
   "cell_type": "markdown",
   "metadata": {},
   "source": [
    "( ) を書かずに、関数名のみのものを、**関数オブジェクト**といいます  \n",
    "関数オブジェクトは、変数のように扱って他の変数に代入することができます  "
   ]
  },
  {
   "cell_type": "code",
   "execution_count": 9,
   "metadata": {},
   "outputs": [
    {
     "name": "stdout",
     "output_type": "stream",
     "text": [
      "7\n"
     ]
    }
   ],
   "source": [
    "add_2 = add\n",
    "print(add_2(3, 4))"
   ]
  },
  {
   "cell_type": "markdown",
   "metadata": {},
   "source": [
    "このような関数オブジェクトは、**lambda**というキーワードを使って簡単に作成することができます  \n",
    "この書き方を、**無名関数**、もしくは**ラムダ関数**といいます"
   ]
  },
  {
   "cell_type": "code",
   "execution_count": 10,
   "metadata": {},
   "outputs": [
    {
     "name": "stdout",
     "output_type": "stream",
     "text": [
      "12\n"
     ]
    }
   ],
   "source": [
    "multiply = lambda a, b : a * b # a, bが引数、a * bが返り値\n",
    "print(multiply(3, 4))"
   ]
  },
  {
   "cell_type": "markdown",
   "metadata": {},
   "source": [
    "無名関数は、比較的シンプルな関数の記述に向いています"
   ]
  },
  {
   "cell_type": "markdown",
   "metadata": {},
   "source": [
    "### 演習:"
   ]
  },
  {
   "cell_type": "markdown",
   "metadata": {},
   "source": [
    "無名関数を使って、以下のコードをよりシンプルにしてみよう"
   ]
  },
  {
   "cell_type": "code",
   "execution_count": 7,
   "metadata": {},
   "outputs": [
    {
     "name": "stdout",
     "output_type": "stream",
     "text": [
      "Pen Pineapple Apple Pen!\n"
     ]
    }
   ],
   "source": [
    "def makePPAP(a, b, c):\n",
    "    d = a + \" \" + b + \" \" + c + \" \" + a + \"!\"\n",
    "    return d\n",
    "    \n",
    "print(makePPAP(\"Pen\", \"Pineapple\", \"Apple\"))"
   ]
  },
  {
   "cell_type": "code",
   "execution_count": null,
   "metadata": {},
   "outputs": [],
   "source": []
  }
 ],
 "metadata": {
  "kernelspec": {
   "display_name": "Python 3",
   "language": "python",
   "name": "python3"
  },
  "language_info": {
   "codemirror_mode": {
    "name": "ipython",
    "version": 3
   },
   "file_extension": ".py",
   "mimetype": "text/x-python",
   "name": "python",
   "nbconvert_exporter": "python",
   "pygments_lexer": "ipython3",
   "version": "3.7.1"
  }
 },
 "nbformat": 4,
 "nbformat_minor": 2
}
